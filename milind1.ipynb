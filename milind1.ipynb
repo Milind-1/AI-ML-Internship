{
 "cells": [
  {
   "cell_type": "code",
   "execution_count": 10,
   "id": "9a626540d4c34bbc",
   "metadata": {},
   "outputs": [],
   "source": [
    "import pandas as pd"
   ]
  },
  {
   "cell_type": "code",
   "execution_count": 9,
   "id": "bdf3c8fe",
   "metadata": {},
   "outputs": [],
   "source": [
    "import numpy as np"
   ]
  },
  {
   "cell_type": "code",
   "execution_count": 8,
   "id": "985499bc",
   "metadata": {},
   "outputs": [],
   "source": [
    "import matplotlib.pyplot as plt\n"
   ]
  },
  {
   "cell_type": "code",
   "execution_count": 7,
   "id": "63123a69",
   "metadata": {},
   "outputs": [
    {
     "name": "stderr",
     "output_type": "stream",
     "text": [
      "Matplotlib is building the font cache; this may take a moment.\n"
     ]
    }
   ],
   "source": [
    "import seaborn as sns\n"
   ]
  },
  {
   "cell_type": "code",
   "execution_count": 12,
   "id": "c6e268ca",
   "metadata": {},
   "outputs": [],
   "source": [
    "from sklearn.preprocessing import StandardScaler, MinMaxScaler, LabelEncoder, OneHotEncoder\n",
    "from sklearn.impute import SimpleImputer"
   ]
  },
  {
   "cell_type": "code",
   "execution_count": 15,
   "id": "379ee739",
   "metadata": {},
   "outputs": [],
   "source": [
    "df = pd.read_csv('titanic.csv')\n"
   ]
  },
  {
   "cell_type": "code",
   "execution_count": null,
   "id": "be5ddedc",
   "metadata": {},
   "outputs": [],
   "source": [
    "print(\"=== Dataset Info ===\")\n",
    "print(df.info())\n",
    "print(\"\\n=== Missing Values ===\")\n",
    "print(df.isnull().sum())\n",
    "print(\"\\n=== Descriptive Statistics ===\")\n",
    "print(df.describe())"
   ]
  },
  {
   "cell_type": "code",
   "execution_count": null,
   "id": "dd5c8e4b",
   "metadata": {},
   "outputs": [],
   "source": [
    "num_cols = df.select_dtypes(include=['int64', 'float64']).columns\n",
    "for col in num_cols:\n",
    "    if df[col].isnull().sum() > 0:\n",
    "        median_val = df[col].median()\n",
    "        df[col].fillna(median_val, inplace=True)\n",
    "        print(f\"Filled missing values in {col} with median: {median_val}\")"
   ]
  },
  {
   "cell_type": "code",
   "execution_count": null,
   "id": "5df99c74",
   "metadata": {},
   "outputs": [],
   "source": [
    "cat_cols = df.select_dtypes(include=['object']).columns\n",
    "for col in cat_cols:\n",
    "    if df[col].isnull().sum() > 0:\n",
    "        mode_val = df[col].mode()[0]\n",
    "        df[col].fillna(mode_val, inplace=True)\n",
    "        print(f\"Filled missing values in {col} with mode: {mode_val}\")"
   ]
  },
  {
   "cell_type": "code",
   "execution_count": null,
   "id": "135c1796",
   "metadata": {},
   "outputs": [],
   "source": [
    "label_encoder = LabelEncoder()\n",
    "for col in df.select_dtypes(include=['object']).columns:\n",
    "    if df[col].nunique() <= 5:  # Few unique values\n",
    "        df[col] = label_encoder.fit_transform(df[col])\n",
    "        print(f\"Label encoded column: {col}\")\n"
   ]
  },
  {
   "cell_type": "code",
   "execution_count": null,
   "id": "5786c5bf",
   "metadata": {},
   "outputs": [],
   "source": [
    "df = pd.get_dummies(df, columns=[col for col in df.select_dtypes(include=['object']).columns if df[col].nunique() > 5])\n",
    "print(\"One-hot encoded remaining categorical columns\")"
   ]
  },
  {
   "cell_type": "code",
   "execution_count": null,
   "id": "4dfa01ae",
   "metadata": {},
   "outputs": [],
   "source": [
    "scaler = StandardScaler()\n",
    "scaled_features = scaler.fit_transform(df.select_dtypes(include=['int64', 'float64']))\n",
    "df_scaled = pd.DataFrame(scaled_features, columns=df.select_dtypes(include=['int64', 'float64']).columns)\n",
    "print(\"Standardized numerical features\")"
   ]
  },
  {
   "cell_type": "code",
   "execution_count": null,
   "id": "3fc76a92",
   "metadata": {},
   "outputs": [],
   "source": [
    "plt.figure(figsize=(15, 10))\n",
    "df.boxplot()\n",
    "plt.title(\"Boxplot of Features to Detect Outliers\")\n",
    "plt.xticks(rotation=45)\n",
    "plt.show()"
   ]
  },
  {
   "cell_type": "code",
   "execution_count": null,
   "id": "51892063",
   "metadata": {},
   "outputs": [],
   "source": [
    "def remove_outliers(df, col):\n",
    "    Q1 = df[col].quantile(0.25)\n",
    "    Q3 = df[col].quantile(0.75)\n",
    "    IQR = Q3 - Q1\n",
    "    lower_bound = Q1 - 1.5 * IQR\n",
    "    upper_bound = Q3 + 1.5 * IQR\n",
    "    return df[(df[col] >= lower_bound) & (df[col] <= upper_bound)]\n",
    "\n",
    "for col in df.select_dtypes(include=['int64', 'float64']).columns:\n",
    "    df = remove_outliers(df, col)\n",
    "print(\"Removed outliers using IQR method\")\n"
   ]
  },
  {
   "cell_type": "code",
   "execution_count": null,
   "id": "9bfc6401",
   "metadata": {},
   "outputs": [],
   "source": [
    "print(\"\\n=== Final Cleaned Dataset ===\")\n",
    "print(df.head())\n",
    "print(df.info())\n"
   ]
  },
  {
   "cell_type": "code",
   "execution_count": null,
   "id": "710f97d1",
   "metadata": {},
   "outputs": [],
   "source": [
    "df.to_csv('cleaned_dataset.csv', index=False)"
   ]
  }
 ],
 "metadata": {
  "kernelspec": {
   "display_name": "base",
   "language": "python",
   "name": "python3"
  },
  "language_info": {
   "codemirror_mode": {
    "name": "ipython",
    "version": 3
   },
   "file_extension": ".py",
   "mimetype": "text/x-python",
   "name": "python",
   "nbconvert_exporter": "python",
   "pygments_lexer": "ipython3",
   "version": "3.12.7"
  }
 },
 "nbformat": 4,
 "nbformat_minor": 5
}
